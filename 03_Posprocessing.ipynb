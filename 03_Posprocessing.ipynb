{
 "cells": [
  {
   "cell_type": "code",
   "execution_count": null,
   "metadata": {},
   "outputs": [],
   "source": [
    "models_file = 'models.pkl'\n",
    "\n",
    "model_list = load_models(models_file)\n",
    "\n",
    "explainers_dict = get_explainers(model_list)"
   ]
  },
  {
   "cell_type": "code",
   "execution_count": null,
   "metadata": {},
   "outputs": [],
   "source": [
    "\n",
    "model_list = var_selection_DF.model.unique()\n",
    "\n",
    "for model_name in model_list:\n",
    "\n",
    "    var_selection_subset = var_selection_DF.loc[var_selection_DF.model == model_name]\n",
    "\n",
    "    var_table = get_var_selection_table(var_selection_subset)\n",
    "\n",
    "    print(model_name)\n",
    "    print(var_table)"
   ]
  }
 ],
 "metadata": {
  "kernelspec": {
   "display_name": "HysteresisPaper",
   "language": "python",
   "name": "python3"
  },
  "language_info": {
   "name": "python",
   "version": "3.9.7"
  },
  "orig_nbformat": 4,
  "vscode": {
   "interpreter": {
    "hash": "fb30adb35226fedb8d95def89312c5cf3af5f6483cc6f06b0a3d799619d96126"
   }
  }
 },
 "nbformat": 4,
 "nbformat_minor": 2
}
